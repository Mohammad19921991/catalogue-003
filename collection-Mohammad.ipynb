{
 "cells": [
  {
   "cell_type": "code",
   "execution_count": 1,
   "metadata": {},
   "outputs": [
    {
     "name": "stdout",
     "output_type": "stream",
     "text": [
      "{'item': {'type': 'uri', 'value': 'http://www.wikidata.org/entity/Q12418'}, 'image': {'type': 'uri', 'value': 'http://commons.wikimedia.org/wiki/Special:FilePath/Mona%20Lisa%2C%20by%20Leonardo%20da%20Vinci%2C%20from%20C2RMF%20natural%20color.jpg'}}\n",
      "{'item': {'type': 'uri', 'value': 'http://www.wikidata.org/entity/Q23898'}, 'image': {'type': 'uri', 'value': 'http://commons.wikimedia.org/wiki/Special:FilePath/Gerard%20David%20Tryptique%20de%20la%20famille%20Sedano%20Bruges%201523.jpg'}}\n",
      "{'item': {'type': 'uri', 'value': 'http://www.wikidata.org/entity/Q23904'}, 'image': {'type': 'uri', 'value': 'http://commons.wikimedia.org/wiki/Special:FilePath/F0459%20Louvre%20Giotto%20Stigmates%20INV309%20rwk.jpg'}}\n",
      "{'item': {'type': 'uri', 'value': 'http://www.wikidata.org/entity/Q23908'}, 'image': {'type': 'uri', 'value': 'http://commons.wikimedia.org/wiki/Special:FilePath/Guardi%20-%20Le%20D%C3%A9part%20du%20Bucentaure%20vers%20le%20Lido%20de%20Venise%2C%20le%20jour%20de%20l%27Ascension%2C%20vers%201770%20-%201780%2C%20INV%2020009.jpg'}}\n",
      "{'item': {'type': 'uri', 'value': 'http://www.wikidata.org/entity/Q23912'}, 'image': {'type': 'uri', 'value': 'http://commons.wikimedia.org/wiki/Special:FilePath/Young%20tiger%20playing%20with%20its%20mother.jpg'}}\n"
     ]
    }
   ],
   "source": [
    "# pip install sparqlwrapper\n",
    "# https://rdflib.github.io/sparqlwrapper/\n",
    "\n",
    "import sys\n",
    "from SPARQLWrapper import SPARQLWrapper, JSON\n",
    "from PIL import Image\n",
    "import requests\n",
    "\n",
    "endpoint_url = \"https://query.wikidata.org/sparql\"\n",
    "\n",
    "query = \"\"\"#Paintings by Rembrandt in the Louvre or the Rijkmuseum\n",
    "#defaultView:ImageGrid\n",
    "SELECT ?item ?Urheberrechtsstatus ?UrheberrechtsstatusLabel ?image \n",
    "WHERE {\n",
    "  ?item wdt:P31 wd:Q3305213.\n",
    "  SERVICE wikibase:label { bd:serviceParam wikibase:language \"[AUTO_LANGUAGE],en\". }\n",
    "  OPTIONAL { ?item wdt:P18 ?image. }\n",
    "  \n",
    "}\n",
    "LIMIT 5\"\"\"\n",
    "\n",
    "\n",
    "def get_results(endpoint_url, query):\n",
    "    user_agent = \"WDQS-example Python/%s.%s\" % (sys.version_info[0], sys.version_info[1])\n",
    "    # TODO adjust user agent; see https://w.wiki/CX6\n",
    "    sparql = SPARQLWrapper(endpoint_url, agent=user_agent)\n",
    "    sparql.setQuery(query)\n",
    "    sparql.setReturnFormat(JSON)\n",
    "    return sparql.query().convert()\n",
    "\n",
    "\n",
    "results = get_results(endpoint_url, query)\n",
    "\n",
    "for result in results[\"results\"][\"bindings\"]:\n",
    "    print(result)\n",
    "\n"
   ]
  }
 ],
 "metadata": {
  "kernelspec": {
   "display_name": "Python 3",
   "language": "python",
   "name": "python3"
  },
  "language_info": {
   "codemirror_mode": {
    "name": "ipython",
    "version": 3
   },
   "file_extension": ".py",
   "mimetype": "text/x-python",
   "name": "python",
   "nbconvert_exporter": "python",
   "pygments_lexer": "ipython3",
   "version": "3.9.12"
  },
  "orig_nbformat": 4
 },
 "nbformat": 4,
 "nbformat_minor": 2
}
